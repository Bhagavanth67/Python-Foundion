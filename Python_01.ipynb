{
  "nbformat": 4,
  "nbformat_minor": 0,
  "metadata": {
    "colab": {
      "provenance": [],
      "authorship_tag": "ABX9TyOvg6xRg6D5twnoxHK1OxIi",
      "include_colab_link": true
    },
    "kernelspec": {
      "name": "python3",
      "display_name": "Python 3"
    },
    "language_info": {
      "name": "python"
    }
  },
  "cells": [
    {
      "cell_type": "markdown",
      "metadata": {
        "id": "view-in-github",
        "colab_type": "text"
      },
      "source": [
        "<a href=\"https://colab.research.google.com/github/Bhagavanth67/Python-Foundion/blob/Python_1/Python_01.ipynb\" target=\"_parent\"><img src=\"https://colab.research.google.com/assets/colab-badge.svg\" alt=\"Open In Colab\"/></a>"
      ]
    },
    {
      "cell_type": "code",
      "execution_count": null,
      "metadata": {
        "id": "_DFBhDeGFPO8"
      },
      "outputs": [],
      "source": [
        "# Write a Python program to print \"Hello, World!\".\n",
        "print(\"Hello, World!\")"
      ]
    },
    {
      "cell_type": "code",
      "source": [
        "# Create a program that takes your name and age as input and prints them.\n",
        "name = input(\"Enter the name : \")\n",
        "age = int(input(\"Enter the age : \"))\n",
        "print(f\"Hello {name},You are {age} years old\")"
      ],
      "metadata": {
        "id": "0_o1qbkLFuFd"
      },
      "execution_count": null,
      "outputs": []
    },
    {
      "cell_type": "code",
      "source": [
        "# Declare variables of all data types in Python (int, float, string, bool, list, tuple, dict, set) and print their types using type().\n",
        "integer = 24\n",
        "floats = 24.67\n",
        "string = \"Queen of Swans\"\n",
        "boolean = 24 > 7\n",
        "lst = [1,2,3,4,5]\n",
        "tup = (1,2,3,4,5)\n",
        "dictionary = {\"A\":1,\"B\":6,\"D\":7,\"H\":24,\"L\":4}\n",
        "sets = {1,2,3,4,5}\n",
        "print(type(integer))\n",
        "print(type(floats))\n",
        "print(type(string))\n",
        "print(type(boolean))\n",
        "print(type(lst))\n",
        "print(type(tup))\n",
        "print(type(dictionary))\n",
        "print(type(sets))"
      ],
      "metadata": {
        "id": "Ghd8FWWAGipG"
      },
      "execution_count": null,
      "outputs": []
    },
    {
      "cell_type": "code",
      "source": [
        "# Swap two numbers without using a third variable.\n",
        "a = int(input(\"Enter the number : \"))\n",
        "b = int(input(\"Enter the number : \"))\n",
        "print(\"Before swapping : \", a , b)\n",
        "a , b = b , a\n",
        "print(\"After swapping : \", a, b)"
      ],
      "metadata": {
        "id": "IEjJVJ3wIJaW"
      },
      "execution_count": null,
      "outputs": []
    },
    {
      "cell_type": "code",
      "source": [
        "# Write a program to calculate the sum, difference, product, and quotient of two numbers.\n",
        "a = int(input(\"Enter the number : \"))\n",
        "b = int(input(\"Enter the number : \"))\n",
        "sums = a + b\n",
        "difference = a - b\n",
        "product = a * b\n",
        "quotient = a / b\n",
        "print(\"Sum of numbers is : \",sums)\n",
        "print(\"Difference of numbers is : \",difference)\n",
        "print(\"Product of numbers is : \",product)\n",
        "print(\"Quotient of numbers is : \",quotient)"
      ],
      "metadata": {
        "id": "ua387mR0Jhe_"
      },
      "execution_count": null,
      "outputs": []
    },
    {
      "cell_type": "code",
      "source": [
        "# Write a program that converts a given temperature from Celsius to Fahrenheit.\n",
        "celsius = int(input(\"Enter the number : \"))\n",
        "fahrenheit = celsius * (9/5) + 32\n",
        "print(f\"The Fahrenheit of given Celsius {celsius} C is {fahrenheit} F\")"
      ],
      "metadata": {
        "id": "7pWfy_0eKyz_"
      },
      "execution_count": null,
      "outputs": []
    },
    {
      "cell_type": "code",
      "source": [
        "# Write a program to calculate the area of a rectangle (length × width).\n",
        "length = int(input(\"Enter the value : \"))\n",
        "width = int(input(\"Entr the value : \"))\n",
        "area = length * width\n",
        "print(\"Area of a rectangle is :\",area)"
      ],
      "metadata": {
        "id": "JWIdFlG7MyYT"
      },
      "execution_count": null,
      "outputs": []
    },
    {
      "cell_type": "code",
      "source": [
        "# Take user input for two numbers and print which one is greater.\n",
        "a = int(input(\"Enter the number : \"))\n",
        "b = int(input(\"Enter the number : \"))\n",
        "if a > b:\n",
        "  print(\"a is greater than b\")\n",
        "else:\n",
        "  print(\"b is greater than a\")"
      ],
      "metadata": {
        "id": "z9Qwmp-lNbXX"
      },
      "execution_count": null,
      "outputs": []
    },
    {
      "cell_type": "code",
      "source": [
        "# Write a Python program to find the square and cube of a number.\n",
        "num = int(input(\"Enter the number : \"))\n",
        "square = num ** 2\n",
        "cube = num ** 3\n",
        "print(f\"Square of {num} is\",square)\n",
        "print(f\"Cube of {num} is\",cube)"
      ],
      "metadata": {
        "id": "3i_7gGTIOTTX"
      },
      "execution_count": null,
      "outputs": []
    },
    {
      "cell_type": "code",
      "source": [
        "# Write a program to find the average of three numbers.\n",
        "a = int(input(\"Enter the number : \"))\n",
        "b = int(input(\"Enter the number : \"))\n",
        "c = int(input(\"Enter the number : \"))\n",
        "average = (a + b + c)/3\n",
        "print(\"Average of 3 numbers is : \",average)"
      ],
      "metadata": {
        "id": "Ze2HECOnPjBg"
      },
      "execution_count": null,
      "outputs": []
    },
    {
      "cell_type": "code",
      "source": [
        "# Create a program that asks for a number and prints whether it is even or odd.\n",
        "num = int(input(\"Enter the number : \"))\n",
        "if num % 2 == 0:\n",
        "  print(\"The given number is even\")\n",
        "else:\n",
        "  print(\"The given number is odd\")"
      ],
      "metadata": {
        "id": "euVPgpg5QLpn"
      },
      "execution_count": null,
      "outputs": []
    },
    {
      "cell_type": "code",
      "source": [
        "# Write a program to convert a string into an integer and an integer into a string.\n",
        "string = input(\"Enter the string of numbers : \")\n",
        "print(\"The integer converted from string is : \",int(string))\n",
        "integer = int(string)\n",
        "print(\"The string converted from integer is  : \",str(integer))"
      ],
      "metadata": {
        "id": "ZZe9DTHHQpSa"
      },
      "execution_count": null,
      "outputs": []
    },
    {
      "cell_type": "code",
      "source": [
        "# Write a Python program that calculates the simple interest (SI = (P × R × T) / 100).\n",
        "p = int(input(\"Enter the principle : \"))\n",
        "r = int(input(\"Enter the rate : \"))\n",
        "t = int(input(\"Enter the time : \"))\n",
        "SI = (p * r * t)/100\n",
        "print(\"The simple interest is\",SI)"
      ],
      "metadata": {
        "id": "s4Oyz9AQRpBJ"
      },
      "execution_count": null,
      "outputs": []
    },
    {
      "cell_type": "code",
      "source": [
        "# Take a number from the user and print the last digit of the number.\n",
        "num = int(input(\"Enter the number : \"))\n",
        "last_digit = num % 10\n",
        "print(f\"Last digit of {num} is\",last_digit)"
      ],
      "metadata": {
        "id": "L8ztDzbrSxjl"
      },
      "execution_count": null,
      "outputs": []
    },
    {
      "cell_type": "code",
      "source": [
        "# Write a program to check the data type of user input.\n",
        "inp = input(\"Enter something: \")\n",
        "print(\"Data type is:\", type(eval(inp)))"
      ],
      "metadata": {
        "id": "6HJRZmP_TSRd"
      },
      "execution_count": null,
      "outputs": []
    }
  ]
}